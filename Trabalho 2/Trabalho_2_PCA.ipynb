{
  "nbformat": 4,
  "nbformat_minor": 0,
  "metadata": {
    "colab": {
      "name": "Trabalho_2-PCA.ipynb",
      "provenance": []
    },
    "kernelspec": {
      "name": "python3",
      "display_name": "Python 3"
    },
    "language_info": {
      "name": "python"
    }
  },
  "cells": [
    {
      "cell_type": "markdown",
      "metadata": {
        "id": "mOccBRikTctB"
      },
      "source": [
        "# Passo-a-passo do PCA"
      ]
    },
    {
      "cell_type": "markdown",
      "metadata": {
        "id": "nzot5vkoTh2J"
      },
      "source": [
        "1. Normalizar os dados\n",
        "2. Cálculo da matriz de covariância entre os atributos\n",
        "3. Autodecomposição da matriz de covariância - decompor a matriz de covariância em autovalores e autovetores\n",
        "4. Seleção dos autovalores e autovetores mais importantes - ordenar os autovetores com base nos autovalores e selecionar os k primeiros\n",
        "5. Cálculo da projeção dos autovetores selecionados para obtenção da matriz de projeção."
      ]
    },
    {
      "cell_type": "code",
      "metadata": {
        "id": "3TigpMNLxVxI"
      },
      "source": [
        "import numpy as np\n",
        "import pandas as pd\n",
        "import matplotlib.pyplot as plt\n",
        "import seaborn as sns\n",
        "from sklearn.decomposition import PCA\n",
        "from sklearn.linear_model import LogisticRegression\n",
        "from sklearn.model_selection import train_test_split\n",
        "from sklearn.ensemble import RandomForestClassifier"
      ],
      "execution_count": 111,
      "outputs": []
    },
    {
      "cell_type": "code",
      "metadata": {
        "id": "AEnupT45zf7k"
      },
      "source": [
        "df = pd.read_csv('data/dermatology.data')"
      ],
      "execution_count": 122,
      "outputs": []
    },
    {
      "cell_type": "code",
      "metadata": {
        "id": "LSOG2r684IP-"
      },
      "source": [
        "df.columns = np.arange(0, 35)"
      ],
      "execution_count": 123,
      "outputs": []
    },
    {
      "cell_type": "code",
      "metadata": {
        "id": "-4HO9fZy8b_5"
      },
      "source": [
        "# aplicando pré-processamento à coluna 33, que está em formato de string,\n",
        "# com alguns valoroes inconsistentes, transformando-os em inteiros\n",
        "df[33] = df[33].apply(lambda x: x if x != '?' else '0').apply(int)"
      ],
      "execution_count": 124,
      "outputs": []
    },
    {
      "cell_type": "code",
      "metadata": {
        "colab": {
          "base_uri": "https://localhost:8080/"
        },
        "id": "EnDF3B7E8jpS",
        "outputId": "2676c2a4-6180-493a-9edb-c4688401a3da"
      },
      "source": [
        "df.info()"
      ],
      "execution_count": 125,
      "outputs": [
        {
          "output_type": "stream",
          "text": [
            "<class 'pandas.core.frame.DataFrame'>\n",
            "RangeIndex: 365 entries, 0 to 364\n",
            "Data columns (total 35 columns):\n",
            " #   Column  Non-Null Count  Dtype\n",
            "---  ------  --------------  -----\n",
            " 0   0       365 non-null    int64\n",
            " 1   1       365 non-null    int64\n",
            " 2   2       365 non-null    int64\n",
            " 3   3       365 non-null    int64\n",
            " 4   4       365 non-null    int64\n",
            " 5   5       365 non-null    int64\n",
            " 6   6       365 non-null    int64\n",
            " 7   7       365 non-null    int64\n",
            " 8   8       365 non-null    int64\n",
            " 9   9       365 non-null    int64\n",
            " 10  10      365 non-null    int64\n",
            " 11  11      365 non-null    int64\n",
            " 12  12      365 non-null    int64\n",
            " 13  13      365 non-null    int64\n",
            " 14  14      365 non-null    int64\n",
            " 15  15      365 non-null    int64\n",
            " 16  16      365 non-null    int64\n",
            " 17  17      365 non-null    int64\n",
            " 18  18      365 non-null    int64\n",
            " 19  19      365 non-null    int64\n",
            " 20  20      365 non-null    int64\n",
            " 21  21      365 non-null    int64\n",
            " 22  22      365 non-null    int64\n",
            " 23  23      365 non-null    int64\n",
            " 24  24      365 non-null    int64\n",
            " 25  25      365 non-null    int64\n",
            " 26  26      365 non-null    int64\n",
            " 27  27      365 non-null    int64\n",
            " 28  28      365 non-null    int64\n",
            " 29  29      365 non-null    int64\n",
            " 30  30      365 non-null    int64\n",
            " 31  31      365 non-null    int64\n",
            " 32  32      365 non-null    int64\n",
            " 33  33      365 non-null    int64\n",
            " 34  34      365 non-null    int64\n",
            "dtypes: int64(35)\n",
            "memory usage: 99.9 KB\n"
          ],
          "name": "stdout"
        }
      ]
    },
    {
      "cell_type": "code",
      "metadata": {
        "colab": {
          "base_uri": "https://localhost:8080/",
          "height": 195
        },
        "id": "3BEaLprpzmJf",
        "outputId": "1945ce53-b609-41ae-968b-228c07bc7aa6"
      },
      "source": [
        "df.head()"
      ],
      "execution_count": 126,
      "outputs": [
        {
          "output_type": "execute_result",
          "data": {
            "text/html": [
              "<div>\n",
              "<style scoped>\n",
              "    .dataframe tbody tr th:only-of-type {\n",
              "        vertical-align: middle;\n",
              "    }\n",
              "\n",
              "    .dataframe tbody tr th {\n",
              "        vertical-align: top;\n",
              "    }\n",
              "\n",
              "    .dataframe thead th {\n",
              "        text-align: right;\n",
              "    }\n",
              "</style>\n",
              "<table border=\"1\" class=\"dataframe\">\n",
              "  <thead>\n",
              "    <tr style=\"text-align: right;\">\n",
              "      <th></th>\n",
              "      <th>0</th>\n",
              "      <th>1</th>\n",
              "      <th>2</th>\n",
              "      <th>3</th>\n",
              "      <th>4</th>\n",
              "      <th>5</th>\n",
              "      <th>6</th>\n",
              "      <th>7</th>\n",
              "      <th>8</th>\n",
              "      <th>9</th>\n",
              "      <th>10</th>\n",
              "      <th>11</th>\n",
              "      <th>12</th>\n",
              "      <th>13</th>\n",
              "      <th>14</th>\n",
              "      <th>15</th>\n",
              "      <th>16</th>\n",
              "      <th>17</th>\n",
              "      <th>18</th>\n",
              "      <th>19</th>\n",
              "      <th>20</th>\n",
              "      <th>21</th>\n",
              "      <th>22</th>\n",
              "      <th>23</th>\n",
              "      <th>24</th>\n",
              "      <th>25</th>\n",
              "      <th>26</th>\n",
              "      <th>27</th>\n",
              "      <th>28</th>\n",
              "      <th>29</th>\n",
              "      <th>30</th>\n",
              "      <th>31</th>\n",
              "      <th>32</th>\n",
              "      <th>33</th>\n",
              "      <th>34</th>\n",
              "    </tr>\n",
              "  </thead>\n",
              "  <tbody>\n",
              "    <tr>\n",
              "      <th>0</th>\n",
              "      <td>3</td>\n",
              "      <td>3</td>\n",
              "      <td>3</td>\n",
              "      <td>2</td>\n",
              "      <td>1</td>\n",
              "      <td>0</td>\n",
              "      <td>0</td>\n",
              "      <td>0</td>\n",
              "      <td>1</td>\n",
              "      <td>1</td>\n",
              "      <td>1</td>\n",
              "      <td>0</td>\n",
              "      <td>0</td>\n",
              "      <td>1</td>\n",
              "      <td>0</td>\n",
              "      <td>1</td>\n",
              "      <td>2</td>\n",
              "      <td>0</td>\n",
              "      <td>2</td>\n",
              "      <td>2</td>\n",
              "      <td>2</td>\n",
              "      <td>2</td>\n",
              "      <td>2</td>\n",
              "      <td>1</td>\n",
              "      <td>0</td>\n",
              "      <td>0</td>\n",
              "      <td>0</td>\n",
              "      <td>0</td>\n",
              "      <td>0</td>\n",
              "      <td>0</td>\n",
              "      <td>0</td>\n",
              "      <td>1</td>\n",
              "      <td>0</td>\n",
              "      <td>8</td>\n",
              "      <td>1</td>\n",
              "    </tr>\n",
              "    <tr>\n",
              "      <th>1</th>\n",
              "      <td>2</td>\n",
              "      <td>1</td>\n",
              "      <td>2</td>\n",
              "      <td>3</td>\n",
              "      <td>1</td>\n",
              "      <td>3</td>\n",
              "      <td>0</td>\n",
              "      <td>3</td>\n",
              "      <td>0</td>\n",
              "      <td>0</td>\n",
              "      <td>0</td>\n",
              "      <td>1</td>\n",
              "      <td>0</td>\n",
              "      <td>0</td>\n",
              "      <td>0</td>\n",
              "      <td>1</td>\n",
              "      <td>2</td>\n",
              "      <td>0</td>\n",
              "      <td>2</td>\n",
              "      <td>0</td>\n",
              "      <td>0</td>\n",
              "      <td>0</td>\n",
              "      <td>0</td>\n",
              "      <td>0</td>\n",
              "      <td>2</td>\n",
              "      <td>0</td>\n",
              "      <td>2</td>\n",
              "      <td>3</td>\n",
              "      <td>2</td>\n",
              "      <td>0</td>\n",
              "      <td>0</td>\n",
              "      <td>2</td>\n",
              "      <td>3</td>\n",
              "      <td>26</td>\n",
              "      <td>3</td>\n",
              "    </tr>\n",
              "    <tr>\n",
              "      <th>2</th>\n",
              "      <td>2</td>\n",
              "      <td>2</td>\n",
              "      <td>2</td>\n",
              "      <td>0</td>\n",
              "      <td>0</td>\n",
              "      <td>0</td>\n",
              "      <td>0</td>\n",
              "      <td>0</td>\n",
              "      <td>3</td>\n",
              "      <td>2</td>\n",
              "      <td>0</td>\n",
              "      <td>0</td>\n",
              "      <td>0</td>\n",
              "      <td>3</td>\n",
              "      <td>0</td>\n",
              "      <td>0</td>\n",
              "      <td>2</td>\n",
              "      <td>0</td>\n",
              "      <td>3</td>\n",
              "      <td>2</td>\n",
              "      <td>2</td>\n",
              "      <td>2</td>\n",
              "      <td>2</td>\n",
              "      <td>0</td>\n",
              "      <td>0</td>\n",
              "      <td>3</td>\n",
              "      <td>0</td>\n",
              "      <td>0</td>\n",
              "      <td>0</td>\n",
              "      <td>0</td>\n",
              "      <td>0</td>\n",
              "      <td>3</td>\n",
              "      <td>0</td>\n",
              "      <td>40</td>\n",
              "      <td>1</td>\n",
              "    </tr>\n",
              "    <tr>\n",
              "      <th>3</th>\n",
              "      <td>2</td>\n",
              "      <td>3</td>\n",
              "      <td>2</td>\n",
              "      <td>2</td>\n",
              "      <td>2</td>\n",
              "      <td>2</td>\n",
              "      <td>0</td>\n",
              "      <td>2</td>\n",
              "      <td>0</td>\n",
              "      <td>0</td>\n",
              "      <td>0</td>\n",
              "      <td>1</td>\n",
              "      <td>0</td>\n",
              "      <td>0</td>\n",
              "      <td>0</td>\n",
              "      <td>1</td>\n",
              "      <td>2</td>\n",
              "      <td>0</td>\n",
              "      <td>0</td>\n",
              "      <td>0</td>\n",
              "      <td>0</td>\n",
              "      <td>0</td>\n",
              "      <td>0</td>\n",
              "      <td>0</td>\n",
              "      <td>2</td>\n",
              "      <td>2</td>\n",
              "      <td>3</td>\n",
              "      <td>2</td>\n",
              "      <td>3</td>\n",
              "      <td>0</td>\n",
              "      <td>0</td>\n",
              "      <td>2</td>\n",
              "      <td>3</td>\n",
              "      <td>45</td>\n",
              "      <td>3</td>\n",
              "    </tr>\n",
              "    <tr>\n",
              "      <th>4</th>\n",
              "      <td>2</td>\n",
              "      <td>3</td>\n",
              "      <td>2</td>\n",
              "      <td>0</td>\n",
              "      <td>0</td>\n",
              "      <td>0</td>\n",
              "      <td>0</td>\n",
              "      <td>0</td>\n",
              "      <td>0</td>\n",
              "      <td>0</td>\n",
              "      <td>0</td>\n",
              "      <td>0</td>\n",
              "      <td>2</td>\n",
              "      <td>1</td>\n",
              "      <td>0</td>\n",
              "      <td>2</td>\n",
              "      <td>2</td>\n",
              "      <td>0</td>\n",
              "      <td>2</td>\n",
              "      <td>0</td>\n",
              "      <td>0</td>\n",
              "      <td>0</td>\n",
              "      <td>1</td>\n",
              "      <td>0</td>\n",
              "      <td>0</td>\n",
              "      <td>0</td>\n",
              "      <td>0</td>\n",
              "      <td>2</td>\n",
              "      <td>0</td>\n",
              "      <td>0</td>\n",
              "      <td>0</td>\n",
              "      <td>1</td>\n",
              "      <td>0</td>\n",
              "      <td>41</td>\n",
              "      <td>2</td>\n",
              "    </tr>\n",
              "  </tbody>\n",
              "</table>\n",
              "</div>"
            ],
            "text/plain": [
              "   0   1   2   3   4   5   6   7   8   ...  26  27  28  29  30  31  32  33  34\n",
              "0   3   3   3   2   1   0   0   0   1  ...   0   0   0   0   0   1   0   8   1\n",
              "1   2   1   2   3   1   3   0   3   0  ...   2   3   2   0   0   2   3  26   3\n",
              "2   2   2   2   0   0   0   0   0   3  ...   0   0   0   0   0   3   0  40   1\n",
              "3   2   3   2   2   2   2   0   2   0  ...   3   2   3   0   0   2   3  45   3\n",
              "4   2   3   2   0   0   0   0   0   0  ...   0   2   0   0   0   1   0  41   2\n",
              "\n",
              "[5 rows x 35 columns]"
            ]
          },
          "metadata": {
            "tags": []
          },
          "execution_count": 126
        }
      ]
    },
    {
      "cell_type": "code",
      "metadata": {
        "id": "8pw_jymn6LDf"
      },
      "source": [
        "X = df.drop(10, axis=1).values\n",
        "y = df[10].values"
      ],
      "execution_count": 127,
      "outputs": []
    },
    {
      "cell_type": "code",
      "metadata": {
        "colab": {
          "base_uri": "https://localhost:8080/"
        },
        "id": "R98Deajf08DY",
        "outputId": "4943e21e-efca-4688-a892-115f4d9c9ff5"
      },
      "source": [
        "X.shape, X"
      ],
      "execution_count": 128,
      "outputs": [
        {
          "output_type": "execute_result",
          "data": {
            "text/plain": [
              "((365, 34), array([[ 3,  3,  3, ...,  0,  8,  1],\n",
              "        [ 2,  1,  2, ...,  3, 26,  3],\n",
              "        [ 2,  2,  2, ...,  0, 40,  1],\n",
              "        ...,\n",
              "        [ 3,  2,  2, ...,  3, 28,  3],\n",
              "        [ 2,  1,  3, ...,  3, 50,  3],\n",
              "        [ 3,  2,  2, ...,  0, 35,  1]]))"
            ]
          },
          "metadata": {
            "tags": []
          },
          "execution_count": 128
        }
      ]
    },
    {
      "cell_type": "code",
      "metadata": {
        "colab": {
          "base_uri": "https://localhost:8080/"
        },
        "id": "LKuZIpRc6adF",
        "outputId": "a2508a3a-84c2-4e87-9d6b-39c76b6dc836"
      },
      "source": [
        "y.shape, y"
      ],
      "execution_count": 129,
      "outputs": [
        {
          "output_type": "execute_result",
          "data": {
            "text/plain": [
              "((365,),\n",
              " array([1, 0, 0, 0, 0, 0, 0, 0, 0, 1, 0, 0, 1, 0, 0, 0, 1, 0, 0, 0, 0, 0,\n",
              "        0, 0, 0, 0, 0, 0, 0, 0, 0, 0, 1, 0, 0, 1, 0, 0, 1, 0, 0, 0, 0, 0,\n",
              "        0, 0, 0, 0, 0, 0, 0, 0, 1, 0, 0, 0, 0, 0, 0, 1, 1, 0, 1, 0, 0, 0,\n",
              "        0, 0, 0, 0, 0, 0, 0, 0, 0, 0, 0, 0, 0, 0, 0, 0, 0, 0, 0, 0, 0, 0,\n",
              "        0, 1, 0, 0, 1, 0, 0, 0, 0, 0, 1, 0, 0, 0, 0, 0, 1, 0, 0, 0, 0, 0,\n",
              "        0, 0, 0, 0, 0, 0, 0, 0, 0, 0, 0, 1, 0, 0, 0, 0, 0, 0, 0, 0, 0, 0,\n",
              "        0, 0, 0, 0, 0, 0, 0, 0, 0, 0, 0, 0, 0, 0, 0, 0, 0, 0, 1, 0, 0, 0,\n",
              "        0, 0, 0, 0, 0, 0, 0, 0, 1, 0, 1, 0, 0, 0, 0, 0, 0, 0, 0, 0, 0, 0,\n",
              "        0, 0, 0, 0, 0, 0, 0, 1, 0, 0, 0, 1, 0, 0, 0, 0, 1, 1, 0, 0, 0, 0,\n",
              "        0, 0, 0, 0, 0, 0, 1, 0, 0, 0, 0, 0, 0, 0, 0, 0, 0, 0, 0, 0, 0, 0,\n",
              "        0, 0, 0, 0, 0, 0, 0, 0, 0, 0, 0, 0, 1, 0, 1, 1, 1, 0, 1, 0, 1, 0,\n",
              "        1, 1, 0, 0, 0, 1, 0, 0, 0, 0, 0, 0, 0, 0, 0, 0, 0, 0, 0, 0, 0, 0,\n",
              "        0, 1, 1, 0, 0, 0, 0, 1, 1, 1, 0, 0, 0, 1, 0, 0, 0, 0, 0, 0, 0, 0,\n",
              "        0, 0, 0, 0, 0, 1, 0, 0, 0, 0, 0, 0, 0, 0, 0, 0, 0, 0, 0, 0, 0, 0,\n",
              "        0, 1, 0, 0, 0, 0, 0, 0, 0, 0, 0, 0, 0, 0, 1, 0, 0, 0, 0, 0, 0, 0,\n",
              "        0, 0, 0, 0, 0, 0, 0, 0, 0, 0, 0, 0, 1, 0, 0, 0, 0, 1, 0, 0, 1, 0,\n",
              "        0, 0, 0, 1, 0, 0, 0, 0, 0, 0, 0, 0, 0]))"
            ]
          },
          "metadata": {
            "tags": []
          },
          "execution_count": 129
        }
      ]
    },
    {
      "cell_type": "markdown",
      "metadata": {
        "id": "DNy0clqD02YJ"
      },
      "source": [
        "Normalmente, aqui seria o momento de aplicar uma normalização aos dados, para usá-los futuramente no PCA.\n",
        "No entanto, como estamos lidando majoritariamente com valores categóricos e em faixas parecidas de valores, deixaremos o dataset como está."
      ]
    },
    {
      "cell_type": "markdown",
      "metadata": {
        "id": "gdBMTb9m5_B1"
      },
      "source": [
        "Além disso, utilizaremos como alvo de classificação a coluna de family history, identificada como coluna 10 no dataframe."
      ]
    },
    {
      "cell_type": "markdown",
      "metadata": {
        "id": "xX9LsrYf109y"
      },
      "source": [
        "## Questão 1: aplicação do PCA para diminuir dimensão."
      ]
    },
    {
      "cell_type": "markdown",
      "metadata": {
        "id": "fuGVowfb2PFp"
      },
      "source": [
        "### 1.1. Determinar uma dimensão adequada que conserve 95% da variância dos dados originais."
      ]
    },
    {
      "cell_type": "code",
      "metadata": {
        "id": "WtHu9HuQ15JZ"
      },
      "source": [
        "# utilizando PCA de 2 a 34 componentes\n",
        "n_values = np.arange(2, 35)\n",
        "# inicializando lista de dataframes resultantes\n",
        "# e lista de variâncias para cada resultado\n",
        "dfs = []\n",
        "explained_variances = {}\n",
        "for n in n_values:\n",
        "  # instanciando método para n componentes\n",
        "  pca = PCA(n_components=n)\n",
        "  # extraindo n principais componentes\n",
        "  principal_components = pca.fit_transform(X)\n",
        "  # calculando variância\n",
        "  explained_variances[n] = pca.explained_variance_ratio_\n",
        "  # salvando em um dataframe\n",
        "  cols = []\n",
        "  for i in range(n):\n",
        "    cols.append('PC{}'.format(i))\n",
        "  df_pc = pd.DataFrame(data = principal_components, columns = cols)\n",
        "  dfs.append(df_pc)"
      ],
      "execution_count": 130,
      "outputs": []
    },
    {
      "cell_type": "code",
      "metadata": {
        "colab": {
          "base_uri": "https://localhost:8080/"
        },
        "id": "Zz3ivxyW4kQv",
        "outputId": "d6fae309-2cb8-4379-ad8f-001f4942778e"
      },
      "source": [
        "# determinando qual número de componentes possui 95% de variância no total\n",
        "print('Dimensão/Variância\\n')\n",
        "for i in n_values:\n",
        "  print((i, explained_variances[i].sum()))"
      ],
      "execution_count": 131,
      "outputs": [
        {
          "output_type": "stream",
          "text": [
            "Dimensão/Variância\n",
            "\n",
            "(2, 0.9390804307521952)\n",
            "(3, 0.9569705174993853)\n",
            "(4, 0.9650853873823323)\n",
            "(5, 0.9700812981542659)\n",
            "(6, 0.9732888569443068)\n",
            "(7, 0.9761618682428007)\n",
            "(8, 0.9788701394272223)\n",
            "(9, 0.9809940046940616)\n",
            "(10, 0.982997079750268)\n",
            "(11, 0.9848255975511261)\n",
            "(12, 0.9865640302795203)\n",
            "(13, 0.9880941488132752)\n",
            "(14, 0.9894806959615435)\n",
            "(15, 0.9907357501379757)\n",
            "(16, 0.9918064758496246)\n",
            "(17, 0.9927315744153684)\n",
            "(18, 0.9936332961973324)\n",
            "(19, 0.9944745435594977)\n",
            "(20, 0.9952527598651197)\n",
            "(21, 0.9959786263907383)\n",
            "(22, 0.996568040200909)\n",
            "(23, 0.9971023839012103)\n",
            "(24, 0.9974933319345243)\n",
            "(25, 0.9978710567701563)\n",
            "(26, 0.9982401396545425)\n",
            "(27, 0.9985723118625662)\n",
            "(28, 0.9988933220380471)\n",
            "(29, 0.999160579045329)\n",
            "(30, 0.9994035873964853)\n",
            "(31, 0.9996339040022576)\n",
            "(32, 0.9998186911466042)\n",
            "(33, 0.9999546832819283)\n",
            "(34, 1.0000000000000004)\n"
          ],
          "name": "stdout"
        }
      ]
    },
    {
      "cell_type": "markdown",
      "metadata": {
        "id": "bs0tAqAG_QVl"
      },
      "source": [
        "Analisando os resultados acima, podemos concluir que, utilizando 3 componentes, ou seja, reduzindo os dados a 3 features, alcançamos uma variância de 95% dos dados originais."
      ]
    },
    {
      "cell_type": "code",
      "metadata": {
        "colab": {
          "base_uri": "https://localhost:8080/"
        },
        "id": "wZgIF3s77fkx",
        "outputId": "f5e69c51-cf03-4dcc-a427-1cede306244a"
      },
      "source": [
        "print('Variância utilizando 3 dimensões: ', str(100*round(explained_variances[3].sum(), 3)), '%')"
      ],
      "execution_count": 82,
      "outputs": [
        {
          "output_type": "stream",
          "text": [
            "Variância utilizando 3 dimensões:  95.7 %\n"
          ],
          "name": "stdout"
        }
      ]
    },
    {
      "cell_type": "markdown",
      "metadata": {
        "id": "KSiXMkzvAFZz"
      },
      "source": [
        "### 1.2. Determinar uma dimensão adequada que maximize a taxa de acerto para o novo conjunto de vetores."
      ]
    },
    {
      "cell_type": "markdown",
      "metadata": {
        "id": "yLBi6SpYAiua"
      },
      "source": [
        "Utilizaremos, aqui, o método de Regressão Logística para classificar a coluna y definida anteriormente. Outros métodos poderiam ser utilizados, mas, a nível de exemplo, foi escolhido este pela simiplicidade e fácil aplicação."
      ]
    },
    {
      "cell_type": "markdown",
      "metadata": {
        "id": "0urbeAttB3-a"
      },
      "source": [
        "Além disso, utilizaremos os novos dados (lista dfs), reduzidos em dimensão, resultados do item anterior. Nele, temos os dados originais reduzidos a n dimensões, com n variando de 2 a 34, junto com o vetor y definido anteriormente."
      ]
    },
    {
      "cell_type": "markdown",
      "metadata": {
        "id": "iOJYtMDMDEaf"
      },
      "source": [
        "Finalmente, para comparação de performance de classificação, utilizaremos a acurácia do modelo, dado pela razão:\n",
        "\n",
        "                        acurácia = classificações corretas / quantidade total de pontos"
      ]
    },
    {
      "cell_type": "code",
      "metadata": {
        "colab": {
          "base_uri": "https://localhost:8080/"
        },
        "id": "bZpMuhCNC70V",
        "outputId": "6f36db88-6d6f-414d-9378-9967968c2052"
      },
      "source": [
        "# treinando regressão logística para cada conjunto de dados\n",
        "# reduzidos em dimensão obtidos no item anterior\n",
        "print('Dimensão/Acurácia\\n')\n",
        "for df_new, n in zip(dfs, n_values):\n",
        "  X_new = df_new.copy()\n",
        "  # dividindo dados de treino e teste, guardando 30% dos dados para teste\n",
        "  X_train, X_test, y_train, y_test = train_test_split(X_new, y, test_size = 0.3, random_state = 42)\n",
        "  # instanciando e treinando regressão logística\n",
        "  lr = LogisticRegression()\n",
        "  lr.fit(X_train, y_train)\n",
        "  # obtendo performance do modelo (acurácia)\n",
        "  classification_score = lr.score(X_test, y_test)\n",
        "  print(str(n), ': ', classification_score)"
      ],
      "execution_count": 132,
      "outputs": [
        {
          "output_type": "stream",
          "text": [
            "Dimensão/Acurácia\n",
            "\n",
            "2 :  0.8727272727272727\n",
            "3 :  0.8727272727272727\n",
            "4 :  0.8727272727272727\n",
            "5 :  0.8818181818181818\n",
            "6 :  0.8727272727272727\n",
            "7 :  0.8727272727272727\n",
            "8 :  0.8727272727272727\n",
            "9 :  0.8727272727272727\n",
            "10 :  0.8727272727272727\n",
            "11 :  0.8727272727272727\n",
            "12 :  0.8727272727272727\n",
            "13 :  0.8727272727272727\n",
            "14 :  0.8727272727272727\n",
            "15 :  0.8727272727272727\n",
            "16 :  0.8727272727272727\n",
            "17 :  0.8727272727272727\n",
            "18 :  0.8727272727272727\n",
            "19 :  0.8727272727272727\n",
            "20 :  0.8727272727272727\n",
            "21 :  0.8727272727272727\n",
            "22 :  0.8636363636363636\n",
            "23 :  0.8636363636363636\n",
            "24 :  0.8545454545454545\n",
            "25 :  0.8545454545454545\n",
            "26 :  0.8545454545454545\n",
            "27 :  0.8545454545454545\n",
            "28 :  0.8545454545454545\n",
            "29 :  0.8545454545454545\n",
            "30 :  0.8545454545454545\n",
            "31 :  0.8545454545454545\n",
            "32 :  0.8545454545454545\n",
            "33 :  0.8545454545454545\n",
            "34 :  0.8545454545454545\n"
          ],
          "name": "stdout"
        }
      ]
    },
    {
      "cell_type": "markdown",
      "metadata": {
        "id": "dcnDj9a4GcLt"
      },
      "source": [
        "Pelos resultados obtidos acima, podemos concluir que o número de dimensões ao qual reduzir os dados originais que maximiza a taxa de acerto é 5.\n",
        "\n",
        "Obtemos, portanto, um número diferente do obtido no item anterior.\n",
        "\n",
        "Dessa forma, concluímos que, para obter 95% da variância dos dados originais, devemos reduzi-los a 3 dimensões. No entanto, para maximizar a performance do classificador, devemos reduzir os dados a 5 dimensões."
      ]
    },
    {
      "cell_type": "markdown",
      "metadata": {
        "id": "rpRJfAXaHXrz"
      },
      "source": [
        "## Questão 2: aplicar PCA para selecionar os atributos mais importantes/relevantes do conjunto de dados original. Determinar a taxa média de acerto e seu desvio-padrão antes e após selecionar os atributos mais relevantes."
      ]
    },
    {
      "cell_type": "code",
      "metadata": {
        "id": "NcLu3CHFOg85"
      },
      "source": [
        "model = RandomForestClassifier()\n",
        "model.fit(X, y)\n",
        "importance = model.feature_importances_\n",
        "# organizando atributos por importância\n",
        "importances = {}\n",
        "for i,v in enumerate(importance):\n",
        "\t# print('Atributo: %0d, Importância: %.5f' % (i,v))\n",
        "  importances[i] = v"
      ],
      "execution_count": 133,
      "outputs": []
    },
    {
      "cell_type": "code",
      "metadata": {
        "id": "du2cUcyxQPd_"
      },
      "source": [
        "importances_df = pd.DataFrame(importance.transpose(), columns=[0], index=df.drop(10, axis=1).columns)"
      ],
      "execution_count": 142,
      "outputs": []
    },
    {
      "cell_type": "code",
      "metadata": {
        "colab": {
          "base_uri": "https://localhost:8080/",
          "height": 1000
        },
        "id": "yXtuwzdGQ1GT",
        "outputId": "e8e48d42-5c93-45eb-e203-0086c661f729"
      },
      "source": [
        "print('Importância/relevância ordenada por atributo')\n",
        "importances_df.sort_values(0, ascending=False)"
      ],
      "execution_count": 147,
      "outputs": [
        {
          "output_type": "stream",
          "text": [
            "Importância/relevância ordenada por atributo\n"
          ],
          "name": "stdout"
        },
        {
          "output_type": "execute_result",
          "data": {
            "text/html": [
              "<div>\n",
              "<style scoped>\n",
              "    .dataframe tbody tr th:only-of-type {\n",
              "        vertical-align: middle;\n",
              "    }\n",
              "\n",
              "    .dataframe tbody tr th {\n",
              "        vertical-align: top;\n",
              "    }\n",
              "\n",
              "    .dataframe thead th {\n",
              "        text-align: right;\n",
              "    }\n",
              "</style>\n",
              "<table border=\"1\" class=\"dataframe\">\n",
              "  <thead>\n",
              "    <tr style=\"text-align: right;\">\n",
              "      <th></th>\n",
              "      <th>0</th>\n",
              "    </tr>\n",
              "  </thead>\n",
              "  <tbody>\n",
              "    <tr>\n",
              "      <th>33</th>\n",
              "      <td>0.119148</td>\n",
              "    </tr>\n",
              "    <tr>\n",
              "      <th>8</th>\n",
              "      <td>0.086902</td>\n",
              "    </tr>\n",
              "    <tr>\n",
              "      <th>19</th>\n",
              "      <td>0.053902</td>\n",
              "    </tr>\n",
              "    <tr>\n",
              "      <th>9</th>\n",
              "      <td>0.045775</td>\n",
              "    </tr>\n",
              "    <tr>\n",
              "      <th>21</th>\n",
              "      <td>0.044874</td>\n",
              "    </tr>\n",
              "    <tr>\n",
              "      <th>23</th>\n",
              "      <td>0.044331</td>\n",
              "    </tr>\n",
              "    <tr>\n",
              "      <th>31</th>\n",
              "      <td>0.043079</td>\n",
              "    </tr>\n",
              "    <tr>\n",
              "      <th>3</th>\n",
              "      <td>0.039573</td>\n",
              "    </tr>\n",
              "    <tr>\n",
              "      <th>25</th>\n",
              "      <td>0.039314</td>\n",
              "    </tr>\n",
              "    <tr>\n",
              "      <th>13</th>\n",
              "      <td>0.037811</td>\n",
              "    </tr>\n",
              "    <tr>\n",
              "      <th>0</th>\n",
              "      <td>0.035455</td>\n",
              "    </tr>\n",
              "    <tr>\n",
              "      <th>15</th>\n",
              "      <td>0.034627</td>\n",
              "    </tr>\n",
              "    <tr>\n",
              "      <th>20</th>\n",
              "      <td>0.034567</td>\n",
              "    </tr>\n",
              "    <tr>\n",
              "      <th>17</th>\n",
              "      <td>0.034429</td>\n",
              "    </tr>\n",
              "    <tr>\n",
              "      <th>18</th>\n",
              "      <td>0.033674</td>\n",
              "    </tr>\n",
              "    <tr>\n",
              "      <th>34</th>\n",
              "      <td>0.032904</td>\n",
              "    </tr>\n",
              "    <tr>\n",
              "      <th>2</th>\n",
              "      <td>0.031132</td>\n",
              "    </tr>\n",
              "    <tr>\n",
              "      <th>4</th>\n",
              "      <td>0.028697</td>\n",
              "    </tr>\n",
              "    <tr>\n",
              "      <th>22</th>\n",
              "      <td>0.028475</td>\n",
              "    </tr>\n",
              "    <tr>\n",
              "      <th>1</th>\n",
              "      <td>0.025171</td>\n",
              "    </tr>\n",
              "    <tr>\n",
              "      <th>29</th>\n",
              "      <td>0.024480</td>\n",
              "    </tr>\n",
              "    <tr>\n",
              "      <th>16</th>\n",
              "      <td>0.024048</td>\n",
              "    </tr>\n",
              "    <tr>\n",
              "      <th>30</th>\n",
              "      <td>0.020969</td>\n",
              "    </tr>\n",
              "    <tr>\n",
              "      <th>27</th>\n",
              "      <td>0.019137</td>\n",
              "    </tr>\n",
              "    <tr>\n",
              "      <th>6</th>\n",
              "      <td>0.013805</td>\n",
              "    </tr>\n",
              "    <tr>\n",
              "      <th>26</th>\n",
              "      <td>0.007095</td>\n",
              "    </tr>\n",
              "    <tr>\n",
              "      <th>12</th>\n",
              "      <td>0.003582</td>\n",
              "    </tr>\n",
              "    <tr>\n",
              "      <th>24</th>\n",
              "      <td>0.003174</td>\n",
              "    </tr>\n",
              "    <tr>\n",
              "      <th>11</th>\n",
              "      <td>0.002105</td>\n",
              "    </tr>\n",
              "    <tr>\n",
              "      <th>32</th>\n",
              "      <td>0.002068</td>\n",
              "    </tr>\n",
              "    <tr>\n",
              "      <th>14</th>\n",
              "      <td>0.001828</td>\n",
              "    </tr>\n",
              "    <tr>\n",
              "      <th>28</th>\n",
              "      <td>0.001741</td>\n",
              "    </tr>\n",
              "    <tr>\n",
              "      <th>5</th>\n",
              "      <td>0.001314</td>\n",
              "    </tr>\n",
              "    <tr>\n",
              "      <th>7</th>\n",
              "      <td>0.000816</td>\n",
              "    </tr>\n",
              "  </tbody>\n",
              "</table>\n",
              "</div>"
            ],
            "text/plain": [
              "           0\n",
              "33  0.119148\n",
              "8   0.086902\n",
              "19  0.053902\n",
              "9   0.045775\n",
              "21  0.044874\n",
              "23  0.044331\n",
              "31  0.043079\n",
              "3   0.039573\n",
              "25  0.039314\n",
              "13  0.037811\n",
              "0   0.035455\n",
              "15  0.034627\n",
              "20  0.034567\n",
              "17  0.034429\n",
              "18  0.033674\n",
              "34  0.032904\n",
              "2   0.031132\n",
              "4   0.028697\n",
              "22  0.028475\n",
              "1   0.025171\n",
              "29  0.024480\n",
              "16  0.024048\n",
              "30  0.020969\n",
              "27  0.019137\n",
              "6   0.013805\n",
              "26  0.007095\n",
              "12  0.003582\n",
              "24  0.003174\n",
              "11  0.002105\n",
              "32  0.002068\n",
              "14  0.001828\n",
              "28  0.001741\n",
              "5   0.001314\n",
              "7   0.000816"
            ]
          },
          "metadata": {
            "tags": []
          },
          "execution_count": 147
        }
      ]
    },
    {
      "cell_type": "code",
      "metadata": {
        "id": "SXTJ4g5ISKd2"
      },
      "source": [
        ""
      ],
      "execution_count": null,
      "outputs": []
    }
  ]
}