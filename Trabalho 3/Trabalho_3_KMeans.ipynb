{
  "nbformat": 4,
  "nbformat_minor": 0,
  "metadata": {
    "colab": {
      "name": "Trabalho_3_KMeans.ipynb",
      "provenance": []
    },
    "kernelspec": {
      "name": "python3",
      "display_name": "Python 3"
    },
    "language_info": {
      "name": "python"
    }
  },
  "cells": [
    {
      "cell_type": "markdown",
      "metadata": {
        "id": "dfDhAVpIquAV"
      },
      "source": [
        "# O Algoritmo K-Means\n",
        "\n",
        "1. Especificar a quantidade K de clusters\n",
        "2. Inicalização aleatória de K centroids, ou seja, K pontos aleatórios do dataset\n",
        "3. Cada um dos dados é rotulado baseado no centroid mais próximo, formando K grupos\n",
        "4. Cálculo dos centroids desses novos grupos\n",
        "5. Se houver mudança dos centroids, repetir passo 3. Se não, finalizar algoritmo.\n",
        "\n",
        "Observação: para que não haja um número muito grande de iterações, isto é, que o passo não seja repetido muitas vezes sem muitos ganhos, é possível definir uma variável $R_{max}$ que finaliza a computação do algoritmo quando este chega ao número $R_{max}$ de iterações."
      ]
    },
    {
      "cell_type": "code",
      "metadata": {
        "id": "tS65_MJwVMt2"
      },
      "source": [
        "import numpy as np\n",
        "import pandas as pd\n",
        "import matplotlib.pyplot as plt\n",
        "from sklearn.cluster import KMeans"
      ],
      "execution_count": null,
      "outputs": []
    },
    {
      "cell_type": "code",
      "metadata": {
        "id": "AEnupT45zf7k"
      },
      "source": [
        "df = pd.read_csv('dermatology.data')"
      ],
      "execution_count": null,
      "outputs": []
    },
    {
      "cell_type": "code",
      "metadata": {
        "id": "LSOG2r684IP-"
      },
      "source": [
        "df.columns = np.arange(0, 35)"
      ],
      "execution_count": null,
      "outputs": []
    },
    {
      "cell_type": "code",
      "metadata": {
        "id": "-4HO9fZy8b_5"
      },
      "source": [
        "# aplicando pré-processamento à coluna 33, que está em formato de string,\n",
        "# com alguns valoroes inconsistentes, transformando-os em inteiros\n",
        "df[33] = df[33].apply(lambda x: x if x != '?' else '0').apply(int)"
      ],
      "execution_count": null,
      "outputs": []
    },
    {
      "cell_type": "code",
      "metadata": {
        "id": "hgNpU3P_yoqN"
      },
      "source": [
        "X = df.drop(10, axis=1).values\n",
        "y = df[10].values"
      ],
      "execution_count": null,
      "outputs": []
    },
    {
      "cell_type": "markdown",
      "metadata": {
        "id": "-PSJhCGNvd1r"
      },
      "source": [
        "Lembrando que:\n",
        "\n",
        "$$ S_W=\\sum_{ k=1 }^{ K }{ \\sum _{ x\\in { C }_{ k } }^{ }{ \\left( x-{ \\mu }_{ k } \\right) { \\left( x-{ \\mu }_{ k } \\right) }^{ T } } } $$\n",
        "\n",
        "$$ S_B=\\sum _{ k=1 }^{ K }{ N_k }{ \\left( { \\mu }_{ k }-{ \\mu } \\right) { \\left( { \\mu }_{ k }-{ \\mu } \\right) }^{ T } } $$\n",
        "\n",
        "onde $K$ é o número de clusters, $x$ é um ponto no cluster $C_k$, $\\mu_k$ é o centroid do cluster $C_k$, $N_k$ é o número de pontos no cluster $C_k$, $\\mu$ é a média de todo o dataset."
      ]
    },
    {
      "cell_type": "code",
      "metadata": {
        "id": "382TS9QDci6c"
      },
      "source": [
        "# índice de validação de cluster\n",
        "def compute_J(kmeans, X):\n",
        "  S_w = Sw(kmeans, X)\n",
        "  S_b = Sb(kmeans, X)\n",
        "  return np.trace(np.linalg.inv(S_w)*S_b)\n",
        "\n",
        "# matriz de espalhamento intra-cluster\n",
        "def Sw(kmeans, X):\n",
        "  # distances = kmeans.transform(X)\n",
        "  labels = kmeans.predict(X)\n",
        "  centroids = kmeans.cluster_centers_\n",
        "\n",
        "  Sw = np.zeros((X.shape[1], X.shape[1]))\n",
        "  for i in range(X.shape[0]):\n",
        "    a = X[i,:] - centroids[labels[i]]\n",
        "    M = a.reshape(1, len(a))*a.reshape(len(a), 1)\n",
        "    Sw = Sw + M\n",
        "\n",
        "  return Sw\n",
        "\n",
        "# matriz de espalhamento entre clusters\n",
        "def Sb(kmeans, X):\n",
        "  labels = kmeans.predict(X)\n",
        "  centroids = kmeans.cluster_centers_\n",
        "  Sb = np.zeros((X.shape[1], X.shape[1]))\n",
        "  N = pd.Series(kmeans.labels_).value_counts()\n",
        "  u = X.mean(axis=0)\n",
        "\n",
        "  for i in range(X.shape[0]):\n",
        "    N_i = N[labels[i]]\n",
        "    u_k = centroids[labels[i]]\n",
        "    a = u - u_k\n",
        "    M = N_i*(a.reshape(1, len(a))*a.reshape(len(a), 1))\n",
        "    M = N_i*M\n",
        "    Sb = Sb + M\n",
        "\n",
        "  return Sb"
      ],
      "execution_count": null,
      "outputs": []
    },
    {
      "cell_type": "code",
      "metadata": {
        "id": "5qag8duHYdvX"
      },
      "source": [
        "Kmax = 15\n",
        "Rmax = 30\n",
        "J = []\n",
        "k_values = np.arange(1, Kmax+1)\n",
        "for k in k_values:\n",
        "  model = KMeans(n_clusters=k, max_iter=Rmax, random_state=42)\n",
        "  model.fit(X)\n",
        "  J_k = compute_J(model, X)\n",
        "  J.append(J_k)"
      ],
      "execution_count": null,
      "outputs": []
    },
    {
      "cell_type": "code",
      "metadata": {
        "colab": {
          "base_uri": "https://localhost:8080/",
          "height": 404
        },
        "id": "RFntEZz3z6_Q",
        "outputId": "3797e430-d90c-402b-96c6-e0c7d6ea2ce3"
      },
      "source": [
        "plt.figure(figsize = (8, 6))\n",
        "plt.plot(J)\n",
        "# plt.xticks(k_values)\n",
        "plt.xlabel('Número de clusters')\n",
        "plt.ylabel('J')\n",
        "plt.title('J(K) x K');"
      ],
      "execution_count": null,
      "outputs": [
        {
          "output_type": "display_data",
          "data": {
            "image/png": "[encoded data removed]",
            "text/plain": [
              "<Figure size 576x432 with 1 Axes>"
            ]
          },
          "metadata": {
            "tags": [],
            "needs_background": "light"
          }
        }
      ]
    },
    {
      "cell_type": "code",
      "metadata": {
        "id": "qqn15PRL1Q7f"
      },
      "source": [
        ""
      ],
      "execution_count": null,
      "outputs": []
    }
  ]
}